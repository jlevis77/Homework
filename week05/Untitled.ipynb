{
 "cells": [
  {
   "cell_type": "code",
   "execution_count": 1,
   "id": "e932c702",
   "metadata": {},
   "outputs": [
    {
     "ename": "SyntaxError",
     "evalue": "invalid syntax (444405455.py, line 4)",
     "output_type": "error",
     "traceback": [
      "\u001b[1;36m  Cell \u001b[1;32mIn[1], line 4\u001b[1;36m\u001b[0m\n\u001b[1;33m    * Derived from 'Panel Data'. References 'Python Data Analysis Library'\u001b[0m\n\u001b[1;37m              ^\u001b[0m\n\u001b[1;31mSyntaxError\u001b[0m\u001b[1;31m:\u001b[0m invalid syntax\n"
     ]
    }
   ],
   "source": [
    "### Week 5 Homework\n",
    "\n",
    "1. What does Pandas stand for?\n",
    "* Derived from 'Panel Data'. References 'Python Data Analysis Library'\n",
    "<br>\n",
    "1. What are the 2 collections used in Pandas?\n",
    "* Series: 1-dimension & DataFrame: 2-dimensional\n",
    "<br>\n",
    "1. Name 4 things Pandas can do for us.\n",
    "* Load, manipulate, prepare & model\n",
    "<br>\n",
    "1. To permanently sort a DataFrame, which keyword should one use with the `df.sort()` method?\n",
    "* df.sort(values)\n",
    "<br>\n",
    "1. What is a CSV\n",
    "* A delimited text file that uses commas to separate values (comma separated values)\n",
    "<br>\n",
    "1. When cleaning data what values do we not like in our data?\n",
    "* Null values"
   ]
  }
 ],
 "metadata": {
  "kernelspec": {
   "display_name": "Python 3 (ipykernel)",
   "language": "python",
   "name": "python3"
  },
  "language_info": {
   "codemirror_mode": {
    "name": "ipython",
    "version": 3
   },
   "file_extension": ".py",
   "mimetype": "text/x-python",
   "name": "python",
   "nbconvert_exporter": "python",
   "pygments_lexer": "ipython3",
   "version": "3.11.1"
  }
 },
 "nbformat": 4,
 "nbformat_minor": 5
}
