{
 "cells": [
  {
   "attachments": {},
   "cell_type": "markdown",
   "metadata": {},
   "source": [
    "## Questions\n",
    "\n",
    "1. What does one need to do to use a module?\n",
    "    * You need to import that module into your program\n",
    "\n",
    "1. Name a Module (not the DateTime Nodule) we looked at and write a line or 2 of code as an example using this module.\n",
    "    * Another module we discussed was the random module used to give random numbers\n",
    "    * Example code:\n",
    "\n",
    "#####import random\n",
    "#####randomNo = random.randrange(1,15)\n",
    "#####print(randomNo)\n",
    "\n",
    "1. What is a benefit of using Exception handling?\n",
    "    * It allows for the code to keep running instead of crashing even if there is an error. Some examples are you can test blocks of code, handle the error, or execute the code when there is no error.\n",
    "\n",
    "1. NumPy arrays are like what Python data type?\n",
    "    * Lists\n",
    "\n",
    "1. What is one of the main benefits of using NumPy arrays.\n",
    "    * It occupies less memory and is much faster than python lists\n",
    "\n",
    "1. What is one of the main requirements about the 'dtype' of NumPy arrays?\n",
    "    * It needs to be the same data type \n",
    "\n",
    "1. Of the 10 uses of NumPy, name 2.\n",
    "    * Arithmetic operations and copying & viewing arrays\n",
    "\n",
    "1. Name one of the other libraries we'll use with NumPy?\n",
    "    * Matplotlib\n",
    "\n",
    "1. What is the shape of NumPy arrays?\n",
    "    * The number of elements in each dimension\n",
    "\n",
    "1. What is a Tensor?\n",
    "    * An array with 3+ dimensions\n",
    "\n",
    "1. Name a reason why it's better using  NumPy for Data Analysis than using a Python List?\n",
    "    * It is faster and more efficient while also using less memory\n",
    "    \n",
    "1. When creating an \"empty\" array, where do the elements come from?\n",
    "    * The empty value will contain whatever was already in the memory location of the array and will get the elements from there"
   ]
  },
  {
   "cell_type": "code",
   "execution_count": 8,
   "metadata": {},
   "outputs": [
    {
     "name": "stdout",
     "output_type": "stream",
     "text": [
      "2023-02-13 21:54:26.311649\n",
      "Month: February\n"
     ]
    }
   ],
   "source": [
    "# 1. Use the DateTime module to get Current Date and Time, and save it to a variable\n",
    "import datetime as dt\n",
    "x = dt.datetime.now()\n",
    "print(x)\n",
    "\n",
    "# Extract just full month name from that variable\n",
    "month = dt.datetime.now()\n",
    "print(\"Month:\", month.strftime(\"%B\"))\n",
    "\n",
    "\n",
    "# 2. Write a simple function that takes 2 parameters -- a  first name and a day name.\n",
    "def greetings(name, day = \"Sunday\"):\n",
    "    print(\"Hi\", name,\"! Happy\", day,\"!\")\n",
    "\n",
    "# Invoke with two variables\n",
    "greetings(\"David\", \"Tuesday\")\n",
    "\n",
    "# Invoke with one variable\n",
    "greetings(\"John\")"
   ]
  },
  {
   "cell_type": "code",
   "execution_count": 3,
   "metadata": {},
   "outputs": [
    {
     "name": "stdout",
     "output_type": "stream",
     "text": [
      "[[[ 0  1]\n",
      "  [ 2  3]\n",
      "  [ 4  5]]\n",
      "\n",
      " [[ 6  7]\n",
      "  [ 8  9]\n",
      "  [10 11]]]\n"
     ]
    }
   ],
   "source": [
    "# 3. Import NumPy\n",
    "import numpy as np\n",
    "\n",
    "# create array with shape (2, 3, 2) using reshape method\n",
    "array = np.arange(12).reshape(2, 3, 2)\n",
    "print(array)"
   ]
  },
  {
   "cell_type": "code",
   "execution_count": 8,
   "metadata": {},
   "outputs": [
    {
     "name": "stdout",
     "output_type": "stream",
     "text": [
      "[ 0.  4.  8. 12. 16. 20.]\n"
     ]
    }
   ],
   "source": [
    "# 4. Use NumPy `.linspace()` to create an array with 6 linearly spaced values between 0 and 20\n",
    "import numpy as np\n",
    "array1 = np.linspace(0,20, num = 6)\n",
    "print(array1)\n",
    "\n",
    "\n",
    "# 5. Make deep copy\n",
    "import copy\n",
    "array2 = copy.deepcopy(array1)\n",
    "\n",
    "\n",
    "# 6. What are 2 reasons we use NumPy arrays over Python Lists?\n",
    "    # Numpy arrays are faster and more efficient than Python lists while also occupying less memory."
   ]
  }
 ],
 "metadata": {
  "kernelspec": {
   "display_name": "Python 3",
   "language": "python",
   "name": "python3"
  },
  "language_info": {
   "codemirror_mode": {
    "name": "ipython",
    "version": 3
   },
   "file_extension": ".py",
   "mimetype": "text/x-python",
   "name": "python",
   "nbconvert_exporter": "python",
   "pygments_lexer": "ipython3",
   "version": "3.11.1"
  },
  "orig_nbformat": 4,
  "vscode": {
   "interpreter": {
    "hash": "b34ede01d81fec1e4bfaa8b72a495b9f5a0f08fdd35af1450f968fec728efb6d"
   }
  }
 },
 "nbformat": 4,
 "nbformat_minor": 2
}
