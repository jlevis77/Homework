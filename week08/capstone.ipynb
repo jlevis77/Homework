{
 "cells": [
  {
   "attachments": {},
   "cell_type": "markdown",
   "metadata": {},
   "source": [
    "## Capstone\n",
    "\n",
    "Data analysis project on the relationship between GDP and suicide rates\n",
    "\n",
    "### Research Question: \n",
    "* What is the correlation between GDP and suicide rates on a global scale?"
   ]
  },
  {
   "attachments": {},
   "cell_type": "markdown",
   "metadata": {},
   "source": [
    "### Project Outline\n",
    "\n",
    "1. Data collection: Collect Data on GDP & suicide rates. (Haven't determined the time period or countries I plan to use yet)\n",
    "* Current sources: World Bank, Org. for Economic Cooperation & Development (OECD)\n",
    "* Information: annual suicide rates by country, annual gdp by country, both include metadata on the countries\n",
    "\n",
    "2. Data cleaning: Working to remove inconsistent/missing values and merge datasets on year. \n",
    "* Transposed some of the raw data in excel and then joined into SQL\n",
    "\n",
    "### Next Steps \n",
    "\n",
    "3. Data exploration: Conducting a descriptive analysis of the data to explore trends & patters in GDP & suicide rates\n",
    "* Visualizations (time series, scatterplots, histogram)\n",
    "\n",
    "4. Statistical analysis: Perform regression to test relationship between GDP & suicide rates \n",
    "* OLS linear regression in python (possible panel or time series) to model the relationship \n",
    "\n",
    "5. Interpretation & conclusion: Based on what I find in the analysis, draw conclusion about the relationship \n",
    "\n",
    "6. Communicate data through visualizations & \"story\" in Tableau"
   ]
  },
  {
   "attachments": {},
   "cell_type": "markdown",
   "metadata": {},
   "source": [
    "Data\n",
    "* working-suicide-rates-oced\n",
    "performed pivot table to get years in column a to become columns\n",
    "* suicide-rates-worldbank (performed vlookup & took the metadata from this file & added to the working-suicide-rates-oced file in Excel )\n",
    "Obtained region, income group, specialnotes, and country name\n",
    "* GDP: current US$, Gdp at purchaser's prices is the sum of gross value added by all resident producers in the economy plus any product taxes and minus and subsidiers ont included in the value of the products. It is calculated w/o making dedutions for deprecitino of fabricated assets or for depletion & degredation of natural resources. Dollar figures for gdo are converted from domestic currencies using single year official exchange rates. For a few countries where the official exchange rate does not reflect the rate effectively applied to actual foreign exchanges, an alterntaiev conversion factor is used. "
   ]
  }
 ],
 "metadata": {
  "language_info": {
   "name": "python"
  },
  "orig_nbformat": 4
 },
 "nbformat": 4,
 "nbformat_minor": 2
}
