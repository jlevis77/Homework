{
 "cells": [
  {
   "attachments": {},
   "cell_type": "markdown",
   "metadata": {},
   "source": [
    "### Homework Questions:\n",
    "\n",
    "- What is a student's average grade\n",
    "    * 1 - 84\n",
    "    * 2 - 88\n",
    "- What department has the highest average grade\n",
    "    * IT\n",
    "- What student has the single highest grade\n",
    "    * Maria"
   ]
  }
 ],
 "metadata": {
  "language_info": {
   "name": "python"
  },
  "orig_nbformat": 4
 },
 "nbformat": 4,
 "nbformat_minor": 2
}
